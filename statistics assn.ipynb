{
 "cells": [
  {
   "cell_type": "markdown",
   "id": "58e7dded-81e5-4108-89a9-3b15339e0d6b",
   "metadata": {},
   "source": [
    "## question 1\n",
    "\n",
    "Statistics is the science of collecting , organizing,presenting,analyzing and interpretation of data."
   ]
  },
  {
   "cell_type": "markdown",
   "id": "95ef820d-bb9c-4d8f-9f13-57c0d0af8a42",
   "metadata": {},
   "source": [
    "## question 2\n",
    "\n",
    "Two different types of statistics are descriptive and inferential.\n",
    "\n",
    "descreptive is used to summarizing and analyzing of data while inferential is used in decision making using testing of hypothesis and pro\n"
   ]
  },
  {
   "cell_type": "markdown",
   "id": "0451da54-0842-48f4-847f-77f3da713c93",
   "metadata": {},
   "source": [
    "## question 3\n",
    "\n",
    "QUANTITATIVE AND QUALITATIVE DATA.\n",
    "\n",
    "1.QUANTITATIVE:-Consist of only numeric data.\n",
    "\n",
    "eg-no.of students in a class.\n",
    "\n",
    "\n",
    "\n",
    "2.QUALITATIVE:- consist of data which is in categorical form.i.e. it has data in form of attributes.\n",
    "\n",
    "eg-color of a fruit."
   ]
  },
  {
   "cell_type": "markdown",
   "id": "dfe03e1e-ec3f-4b9a-b534-5e87e5e1a5b7",
   "metadata": {},
   "source": [
    "## question 4\n",
    "a)ordinal data\n",
    "b)nominal data(quantative data)\n",
    "c)continous\n",
    "d)discrete"
   ]
  },
  {
   "cell_type": "markdown",
   "id": "560122d3-5213-4c6a-8e12-09103d0b3e15",
   "metadata": {},
   "source": [
    "## question 5\n",
    "Levels of measurement, also called scales of measurement, tell you how precisely variables are recorded.\n",
    "Nominal: Gender\n",
    "Ordinal: Top 5 Olympic medallists\n",
    "Interval: Test scores (e.g., IQ or exams)\n",
    "Ratio:Temperature in Kelvin\n"
   ]
  },
  {
   "cell_type": "markdown",
   "id": "eb28f9c7-3c71-45dc-a0e4-640e61e7317a",
   "metadata": {},
   "source": [
    "## question 6\n",
    "The level of measurement determines the type of statistical analysis that can be conducted, and, therefore, the type of conclusions that can be drawn from the research."
   ]
  },
  {
   "cell_type": "markdown",
   "id": "6456ba57-6c49-492a-9f10-24c24384dc5c",
   "metadata": {},
   "source": [
    "## question 7\n",
    "In nominal data we cannot assign a rank to the attribute(category) while in ordinal data we can do so.\n",
    "eg:-we cannot assign rank to intelligence(nominal data) but we can asiighn ranks to quality of a product as fair,better,good and better."
   ]
  },
  {
   "cell_type": "markdown",
   "id": "e01b6c2e-2ff7-43aa-937f-b6c441c45672",
   "metadata": {},
   "source": [
    "## question 8\n",
    "\n",
    "Scatter plot."
   ]
  },
  {
   "cell_type": "markdown",
   "id": "e025fe3f-9494-4059-9591-65000e32fafd",
   "metadata": {},
   "source": [
    "## question 9\n",
    "Descriptive statistics summarize the characteristics of a data set. Inferential statistics allow you to test a hypothesis or assess whether your data is generalizable to the broader population.\n",
    "\n",
    "ex:- summarizing the data in a college for elections and from that data finding a conclusion for winning party."
   ]
  },
  {
   "cell_type": "markdown",
   "id": "cc467f54-bf80-4802-935c-a2125b70e799",
   "metadata": {},
   "source": [
    "## question 10\n",
    "Measures of Central Tendency:-\n",
    "1.Mean\n",
    "2.MEDIAN\n",
    "3.MODE\n",
    "4.RANGE\n",
    "\n",
    "MEASURES OF DISPERSION\n",
    "1.VARIANCE\n",
    "2.STANDARD DEVIATION\n",
    "3.SKEWNESS\n",
    "4.KURTOSIS\n",
    "\n",
    "\n"
   ]
  },
  {
   "cell_type": "code",
   "execution_count": null,
   "id": "0607197a-4e53-4266-9fc5-b61d501a3367",
   "metadata": {},
   "outputs": [],
   "source": []
  }
 ],
 "metadata": {
  "kernelspec": {
   "display_name": "Python 3 (ipykernel)",
   "language": "python",
   "name": "python3"
  },
  "language_info": {
   "codemirror_mode": {
    "name": "ipython",
    "version": 3
   },
   "file_extension": ".py",
   "mimetype": "text/x-python",
   "name": "python",
   "nbconvert_exporter": "python",
   "pygments_lexer": "ipython3",
   "version": "3.10.8"
  }
 },
 "nbformat": 4,
 "nbformat_minor": 5
}
